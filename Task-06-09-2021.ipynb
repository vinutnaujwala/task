{
 "cells": [
  {
   "cell_type": "markdown",
   "id": "6cd76805",
   "metadata": {},
   "source": [
    "# 1.Write a NumPy program to test whether none of the elements of a given array is zero\n"
   ]
  },
  {
   "cell_type": "code",
   "execution_count": 1,
   "id": "1b8bd2bb",
   "metadata": {},
   "outputs": [
    {
     "name": "stdout",
     "output_type": "stream",
     "text": [
      "Original array:\n",
      "[1 2 3 4]\n",
      "Test if none of the elements of the said array is zero:\n",
      "True\n"
     ]
    }
   ],
   "source": [
    "import numpy as np\n",
    "x = np.array([1, 2, 3, 4])\n",
    "print(\"Original array:\")\n",
    "print(x)\n",
    "print(\"Test if none of the elements of the said array is zero:\")\n",
    "print(np.all(x))\n",
    "\n",
    "\n"
   ]
  },
  {
   "cell_type": "markdown",
   "id": "92e48864",
   "metadata": {},
   "source": [
    "# 2.Write a NumPy program to test whether any of the elements of a given array is non-zero"
   ]
  },
  {
   "cell_type": "code",
   "execution_count": 2,
   "id": "eb36651f",
   "metadata": {},
   "outputs": [
    {
     "name": "stdout",
     "output_type": "stream",
     "text": [
      "Original array:\n",
      "[1 0 0 0]\n",
      "Test whether any of the elements of a given array is non-zero:\n",
      "True\n"
     ]
    }
   ],
   "source": [
    "import numpy as np\n",
    "x = np.array([1, 0, 0, 0])\n",
    "print(\"Original array:\")\n",
    "print(x)\n",
    "print(\"Test whether any of the elements of a given array is non-zero:\")\n",
    "print(np.any(x))\n"
   ]
  },
  {
   "cell_type": "markdown",
   "id": "6a6de01b",
   "metadata": {},
   "source": [
    "# 3.Create an identity matrix of dimension 4-by-4\n",
    "Eg:\n",
    "[[1. 0. 0. 0.]\n",
    "[0. 1. 0. 0.]\n",
    "[0. 0. 1. 0.]\n",
    "[0. 0. 0. 1.]]"
   ]
  },
  {
   "cell_type": "code",
   "execution_count": 3,
   "id": "2084a08c",
   "metadata": {},
   "outputs": [
    {
     "name": "stdout",
     "output_type": "stream",
     "text": [
      "Matrix b : \n",
      " [[1. 0. 0. 0.]\n",
      " [0. 1. 0. 0.]\n",
      " [0. 0. 1. 0.]\n",
      " [0. 0. 0. 1.]]\n"
     ]
    }
   ],
   "source": [
    "import numpy as np\n",
    " \n",
    "a = np.identity(4, dtype = float)\n",
    "print(\"Matrix b : \\n\", a)"
   ]
  },
  {
   "cell_type": "markdown",
   "id": "8b1c7702",
   "metadata": {},
   "source": [
    "# 4.Convert a 1-D array to a 3-D array"
   ]
  },
  {
   "cell_type": "code",
   "execution_count": 4,
   "id": "7a624b10",
   "metadata": {},
   "outputs": [
    {
     "name": "stdout",
     "output_type": "stream",
     "text": [
      "[[[ 1  2]\n",
      "  [ 3  4]\n",
      "  [ 5  6]]\n",
      "\n",
      " [[ 7  8]\n",
      "  [ 9 10]\n",
      "  [11 12]]]\n"
     ]
    }
   ],
   "source": [
    "import numpy as np\n",
    "arr = np.array([1, 2, 3, 4, 5, 6, 7, 8, 9, 10, 11, 12])\n",
    "newarr = arr.reshape(2, 3, 2)\n",
    "print(newarr)\n"
   ]
  },
  {
   "cell_type": "markdown",
   "id": "205c248d",
   "metadata": {},
   "source": [
    "# 5.Convert all the elements of a numpy array from float to integer datatype"
   ]
  },
  {
   "cell_type": "code",
   "execution_count": 5,
   "id": "2918f2f3",
   "metadata": {},
   "outputs": [
    {
     "name": "stdout",
     "output_type": "stream",
     "text": [
      "Original array elements:\n",
      "[[12.   12.51]\n",
      " [ 2.34  7.98]\n",
      " [25.23 36.5 ]]\n",
      "Convert float values to integer values:\n",
      "[[12 12]\n",
      " [ 2  7]\n",
      " [25 36]]\n"
     ]
    }
   ],
   "source": [
    "import numpy as np\n",
    "x= np.array([[12.0, 12.51], [2.34, 7.98], [25.23, 36.50]])\n",
    "print(\"Original array elements:\")\n",
    "print(x)\n",
    "print(\"Convert float values to integer values:\")\n",
    "print(x.astype(int))\n"
   ]
  },
  {
   "cell_type": "markdown",
   "id": "66bf4249",
   "metadata": {},
   "source": [
    "# 6.Create a 10x10 array with random values and find the minimum and maximum values"
   ]
  },
  {
   "cell_type": "code",
   "execution_count": 6,
   "id": "43c22031",
   "metadata": {},
   "outputs": [
    {
     "name": "stdout",
     "output_type": "stream",
     "text": [
      "Original Array:\n",
      "[[0.76270566 0.15361051 0.52171714 0.30473792 0.49966337 0.2846075\n",
      "  0.51307609 0.64414401 0.87531148 0.55338131]\n",
      " [0.09836208 0.26119506 0.68934876 0.49454072 0.53762371 0.20267855\n",
      "  0.20618492 0.0879576  0.07851692 0.32259407]\n",
      " [0.46152947 0.76282026 0.80768662 0.59708386 0.49234109 0.61595417\n",
      "  0.18343121 0.14241359 0.74418108 0.74525494]\n",
      " [0.14957419 0.75301896 0.55739564 0.99569005 0.15571462 0.21924944\n",
      "  0.28199115 0.83661549 0.53451809 0.4645884 ]\n",
      " [0.97891396 0.0442682  0.35978705 0.07764127 0.82262413 0.37643871\n",
      "  0.45697772 0.96643577 0.75750986 0.45477332]\n",
      " [0.6027719  0.06804662 0.34756372 0.12002521 0.62649928 0.26042857\n",
      "  0.15596518 0.50580947 0.89745755 0.98215748]\n",
      " [0.05529245 0.00180549 0.22098911 0.62913772 0.04851514 0.37078431\n",
      "  0.41092567 0.12706277 0.09937838 0.23644625]\n",
      " [0.70279513 0.82167175 0.34920398 0.28760809 0.60308813 0.50903625\n",
      "  0.92011863 0.83687571 0.75113352 0.02066258]\n",
      " [0.67492025 0.74451427 0.73686705 0.4165324  0.13318039 0.67747179\n",
      "  0.45126375 0.41999427 0.1129095  0.33245125]\n",
      " [0.3772805  0.16668446 0.03586224 0.60529048 0.74440024 0.20392796\n",
      "  0.75886107 0.86615335 0.88749923 0.8936558 ]]\n",
      "Minimum and Maximum Values:\n",
      "0.0018054878034694521 0.9956900486749379\n"
     ]
    }
   ],
   "source": [
    "import numpy as np\n",
    "x = np.random.random((10,10))\n",
    "print(\"Original Array:\")\n",
    "print(x) \n",
    "xmin, xmax = x.min(), x.max()\n",
    "print(\"Minimum and Maximum Values:\")\n",
    "print(xmin, xmax)\n"
   ]
  },
  {
   "cell_type": "markdown",
   "id": "fa628179",
   "metadata": {},
   "source": [
    "# 7.Create a random vector of size 30 and find the mean value"
   ]
  },
  {
   "cell_type": "code",
   "execution_count": 7,
   "id": "d00142cb",
   "metadata": {},
   "outputs": [
    {
     "name": "stdout",
     "output_type": "stream",
     "text": [
      "0.48669262725828594\n"
     ]
    }
   ],
   "source": [
    "import numpy as np\n",
    "x = np.random.random(30)\n",
    "m = x.mean()\n",
    "print(m)\n"
   ]
  },
  {
   "cell_type": "markdown",
   "id": "a52c54d4",
   "metadata": {},
   "source": [
    "# 8.Create a 2d array with 1 on the border and 0 inside"
   ]
  },
  {
   "cell_type": "code",
   "execution_count": 8,
   "id": "7c488581",
   "metadata": {},
   "outputs": [
    {
     "name": "stdout",
     "output_type": "stream",
     "text": [
      "Original array:\n",
      "[[1. 1. 1.]\n",
      " [1. 1. 1.]\n",
      " [1. 1. 1.]]\n",
      "1 on the border and 0 inside in the array\n",
      "[[1. 1. 1.]\n",
      " [1. 0. 1.]\n",
      " [1. 1. 1.]]\n"
     ]
    }
   ],
   "source": [
    "import numpy as np\n",
    "x = np.ones((3,3))\n",
    "print(\"Original array:\")\n",
    "print(x)\n",
    "print(\"1 on the border and 0 inside in the array\")\n",
    "x[1:-1,1:-1] = 0\n",
    "print(x)\n"
   ]
  },
  {
   "cell_type": "markdown",
   "id": "36a3671c",
   "metadata": {},
   "source": [
    "# 9.How to add a border (filled with 0's) around an existing array?"
   ]
  },
  {
   "cell_type": "code",
   "execution_count": 9,
   "id": "768742a8",
   "metadata": {},
   "outputs": [
    {
     "name": "stdout",
     "output_type": "stream",
     "text": [
      "Original array:\n",
      "[[1. 1. 1.]\n",
      " [1. 1. 1.]\n",
      " [1. 1. 1.]]\n",
      "0 on the border and 1 inside in the array\n",
      "[[0. 0. 0. 0. 0.]\n",
      " [0. 1. 1. 1. 0.]\n",
      " [0. 1. 1. 1. 0.]\n",
      " [0. 1. 1. 1. 0.]\n",
      " [0. 0. 0. 0. 0.]]\n"
     ]
    }
   ],
   "source": [
    "import numpy as np\n",
    "x = np.ones((3,3))\n",
    "print(\"Original array:\")\n",
    "print(x)\n",
    "print(\"0 on the border and 1 inside in the array\")\n",
    "x = np.pad(x, pad_width=1, mode='constant', constant_values=0)\n",
    "print(x)\n"
   ]
  },
  {
   "cell_type": "markdown",
   "id": "57b2dbaa",
   "metadata": {},
   "source": [
    "# 10.What is the result of the following expression?"
   ]
  },
  {
   "cell_type": "code",
   "execution_count": 10,
   "id": "07793bc8",
   "metadata": {},
   "outputs": [
    {
     "data": {
      "text/plain": [
       "False"
      ]
     },
     "execution_count": 10,
     "metadata": {},
     "output_type": "execute_result"
    }
   ],
   "source": [
    "0 * np.nan\n",
    "np.nan == np.nan\n",
    "np.inf > np.nan\n",
    "np.nan - np.nan\n",
    "np.nan in set([np.nan])\n",
    "0.3 == 3 * 0.1"
   ]
  },
  {
   "cell_type": "markdown",
   "id": "39f12bf5",
   "metadata": {},
   "source": [
    "# 11.Create a 5x5 matrix with values 1,2,3,4 just below the diagonal"
   ]
  },
  {
   "cell_type": "code",
   "execution_count": 11,
   "id": "277a4162",
   "metadata": {},
   "outputs": [
    {
     "name": "stdout",
     "output_type": "stream",
     "text": [
      "[[1 0 0 0]\n",
      " [0 2 0 0]\n",
      " [0 0 3 0]\n",
      " [0 0 0 4]]\n"
     ]
    }
   ],
   "source": [
    "import numpy as np\n",
    "x = np.diag([1, 2, 3, 4])\n",
    "print(x)\n"
   ]
  },
  {
   "cell_type": "markdown",
   "id": "d574c6df",
   "metadata": {},
   "source": [
    "# 12.Create a 8x8 matrix and fill it with a checkerboard pattern"
   ]
  },
  {
   "cell_type": "code",
   "execution_count": 12,
   "id": "f70430df",
   "metadata": {},
   "outputs": [
    {
     "name": "stdout",
     "output_type": "stream",
     "text": [
      "Checkerboard pattern:\n",
      "[[0 0 0 0 0 0 0 0]\n",
      " [0 0 0 0 0 0 0 0]\n",
      " [0 0 0 0 0 0 0 0]\n",
      " [0 0 0 0 0 0 0 0]\n",
      " [0 0 0 0 0 0 0 0]\n",
      " [0 0 0 0 0 0 0 0]\n",
      " [0 0 0 0 0 0 0 0]\n",
      " [0 0 0 0 0 0 0 0]]\n"
     ]
    }
   ],
   "source": [
    "import numpy as np\n",
    "print(\"Checkerboard pattern:\")\n",
    "x = np.zeros((8,8),dtype=int)\n",
    "print(x)\n"
   ]
  },
  {
   "cell_type": "markdown",
   "id": "d99a0572",
   "metadata": {},
   "source": [
    "# 13.Consider a (6,7,8) shape array, what is the index (x,y,z) of the 100th element?\n"
   ]
  },
  {
   "cell_type": "code",
   "execution_count": 13,
   "id": "29aedb69",
   "metadata": {},
   "outputs": [
    {
     "name": "stdout",
     "output_type": "stream",
     "text": [
      "(1, 5, 4)\n"
     ]
    }
   ],
   "source": [
    "print (np.unravel_index(100, (6,7,8)))"
   ]
  },
  {
   "cell_type": "markdown",
   "id": "07339509",
   "metadata": {},
   "source": [
    "# 14.Create a checkerboard 8x8 matrix using the tile function"
   ]
  },
  {
   "cell_type": "code",
   "execution_count": 14,
   "id": "e799e7f3",
   "metadata": {},
   "outputs": [
    {
     "name": "stdout",
     "output_type": "stream",
     "text": [
      "[[0 1 0 1 0 1 0 1]\n",
      " [1 0 1 0 1 0 1 0]\n",
      " [0 1 0 1 0 1 0 1]\n",
      " [1 0 1 0 1 0 1 0]\n",
      " [0 1 0 1 0 1 0 1]\n",
      " [1 0 1 0 1 0 1 0]\n",
      " [0 1 0 1 0 1 0 1]\n",
      " [1 0 1 0 1 0 1 0]]\n"
     ]
    }
   ],
   "source": [
    "array= np.array([[0,1], [1,0]])\n",
    "x = np.tile(array,(4,4))\n",
    "print (x)\n",
    "\n"
   ]
  },
  {
   "cell_type": "markdown",
   "id": "8de95ed8",
   "metadata": {},
   "source": [
    "# 15.Normalize a 5x5 random matrix"
   ]
  },
  {
   "cell_type": "code",
   "execution_count": 15,
   "id": "4f79c4f1",
   "metadata": {},
   "outputs": [
    {
     "name": "stdout",
     "output_type": "stream",
     "text": [
      "[[0.         0.75691744 1.         0.20491182 0.94231594]\n",
      " [0.58464643 0.25134828 0.11820721 0.49949049 0.94564096]\n",
      " [0.19088937 0.61859647 0.76360058 0.38724278 0.75768537]\n",
      " [0.33122779 0.32027458 0.43189458 0.0228785  0.03020833]\n",
      " [0.16008585 0.02087732 0.08635068 0.36127479 0.61094966]]\n"
     ]
    }
   ],
   "source": [
    "Z = np.random.random((5,5))\n",
    "Zmax, Zmin = Z.max(), Z.min()\n",
    "Z= (Z-Zmin)/(Zmax-Zmin)\n",
    "print (Z)\n"
   ]
  },
  {
   "cell_type": "markdown",
   "id": "53fe6ef6",
   "metadata": {},
   "source": [
    "# 16.Create a custom dtype that describes a color as four unsigned bytes (RGBA)"
   ]
  },
  {
   "cell_type": "code",
   "execution_count": 16,
   "id": "720f3c0b",
   "metadata": {},
   "outputs": [
    {
     "name": "stdout",
     "output_type": "stream",
     "text": [
      "1\n",
      "2\n",
      "3\n",
      "4\n"
     ]
    },
    {
     "data": {
      "text/plain": [
       "numpy.ndarray"
      ]
     },
     "execution_count": 16,
     "metadata": {},
     "output_type": "execute_result"
    }
   ],
   "source": [
    "RGBA = np.dtype([('red',np.ubyte),('green',np.ubyte),('blue',np.ubyte),('alpha',np.ubyte)])\n",
    "color = np.array((1,2,3,4),dtype = RGBA)\n",
    "print(color['red'])\n",
    "print(color['green'])\n",
    "print(color['blue'])\n",
    "print(color['alpha'])\n",
    "type(color)"
   ]
  },
  {
   "cell_type": "markdown",
   "id": "5a7c3135",
   "metadata": {},
   "source": [
    "# 17.Multiply a 5x3 matrix by a 3x2 matrix (real matrix product)"
   ]
  },
  {
   "cell_type": "code",
   "execution_count": 17,
   "id": "d6597fb5",
   "metadata": {},
   "outputs": [
    {
     "name": "stdout",
     "output_type": "stream",
     "text": [
      "[[0.43109392 0.93959546]\n",
      " [0.349994   0.64150014]\n",
      " [0.29147494 0.81071942]\n",
      " [0.63223563 1.09424198]\n",
      " [0.53629329 1.04073945]]\n"
     ]
    },
    {
     "data": {
      "text/plain": [
       "array([[0.43109392, 0.93959546],\n",
       "       [0.349994  , 0.64150014],\n",
       "       [0.29147494, 0.81071942],\n",
       "       [0.63223563, 1.09424198],\n",
       "       [0.53629329, 1.04073945]])"
      ]
     },
     "execution_count": 17,
     "metadata": {},
     "output_type": "execute_result"
    }
   ],
   "source": [
    "arr_1 = np.random.random((5,3))\n",
    "arr_2 = np.random.random((3,2))\n",
    "print(arr_1 @ arr_2)\n",
    "np.dot(arr_1,arr_2)"
   ]
  },
  {
   "cell_type": "markdown",
   "id": "1a934b87",
   "metadata": {},
   "source": [
    "# 18.Given a 1D array, negate all elements which are between 3 and 8, in place"
   ]
  },
  {
   "cell_type": "code",
   "execution_count": 18,
   "id": "1a905ac7",
   "metadata": {},
   "outputs": [
    {
     "name": "stdout",
     "output_type": "stream",
     "text": [
      "[False False False  True  True  True  True  True  True  True  True  True]\n",
      "[ 0  1  2 -3 -4 -5 -6 -7 -8  9 10 11]\n"
     ]
    }
   ],
   "source": [
    "arr = np.arange(12)\n",
    "print(arr>=3)\n",
    "arr[(arr>=3) & (arr<=8)]*=(-1)\n",
    "print(arr)\n",
    "\n",
    "arr = np.arange(12)"
   ]
  },
  {
   "cell_type": "markdown",
   "id": "cb0013f1",
   "metadata": {},
   "source": [
    "# 19.What is the output of the following script?"
   ]
  },
  {
   "cell_type": "code",
   "execution_count": 19,
   "id": "93335973",
   "metadata": {},
   "outputs": [
    {
     "name": "stdout",
     "output_type": "stream",
     "text": [
      "9\n",
      "10\n"
     ]
    }
   ],
   "source": [
    "print(sum(range(5),-1))\n",
    "from numpy import *\n",
    "print(sum(range(5),-1))"
   ]
  },
  {
   "cell_type": "code",
   "execution_count": null,
   "id": "1748b618",
   "metadata": {},
   "outputs": [],
   "source": []
  },
  {
   "cell_type": "code",
   "execution_count": null,
   "id": "19101e8e",
   "metadata": {},
   "outputs": [],
   "source": []
  },
  {
   "cell_type": "markdown",
   "id": "8153bf3a",
   "metadata": {},
   "source": [
    "# 20.Consider an integer vector Z, which of these expressions are legal"
   ]
  },
  {
   "cell_type": "code",
   "execution_count": 20,
   "id": "ecc920fa",
   "metadata": {},
   "outputs": [
    {
     "name": "stdout",
     "output_type": "stream",
     "text": [
      "['0b10', '0b10', '0b10', '0b10', '0b10', '0b10', '0b10', '0b10', '0b10', '0b10']\n",
      "['0b10', '0b100', '0b1000', '0b100000', '0b1000000000', '0b100000000000000000', '0b0', '0b0', '0b0', '0b0']\n"
     ]
    }
   ],
   "source": [
    "Z = arange(10)\n",
    "Z**Z\n",
    "Z_2 = 2 << Z >> 2\n",
    "print([bin(2) for z in Z_2])\n",
    "print([bin(z) for z in 2 << Z_2])\n"
   ]
  },
  {
   "cell_type": "markdown",
   "id": "1e592bb5",
   "metadata": {},
   "source": [
    "# 21.What are the result of the following expressions?"
   ]
  },
  {
   "cell_type": "code",
   "execution_count": 21,
   "id": "ca31df7b",
   "metadata": {},
   "outputs": [
    {
     "data": {
      "text/plain": [
       "array([-2.14748365e+09])"
      ]
     },
     "execution_count": 21,
     "metadata": {},
     "output_type": "execute_result"
    }
   ],
   "source": [
    "np.array([np.nan]).astype(int).astype(float)"
   ]
  },
  {
   "cell_type": "markdown",
   "id": "34ac54c1",
   "metadata": {},
   "source": [
    "# 22.How to round away from zero a float array ?"
   ]
  },
  {
   "cell_type": "code",
   "execution_count": 22,
   "id": "1d10daa2",
   "metadata": {},
   "outputs": [
    {
     "name": "stdout",
     "output_type": "stream",
     "text": [
      "[[0.85484137 0.56749886 0.09333785]\n",
      " [0.81090216 0.59845395 0.30434612]\n",
      " [0.10848091 0.50771337 0.85563872]]\n",
      "[[0.85 0.57 0.09]\n",
      " [0.81 0.6  0.3 ]\n",
      " [0.11 0.51 0.86]]\n"
     ]
    }
   ],
   "source": [
    "arr = np.random.random((3,3))\n",
    "print(arr)\n",
    "arr = np.round(arr,2)\n",
    "print(arr)"
   ]
  },
  {
   "cell_type": "markdown",
   "id": "5d20d5cd",
   "metadata": {},
   "source": [
    "# 23.How to find common values between two arrays?"
   ]
  },
  {
   "cell_type": "code",
   "execution_count": 23,
   "id": "11dc185a",
   "metadata": {},
   "outputs": [
    {
     "name": "stdout",
     "output_type": "stream",
     "text": [
      "[1 2 4 6]\n"
     ]
    }
   ],
   "source": [
    "\n",
    "x1 = np.random.randint(0,10,10)\n",
    "x2 = np.random.randint(0,10,10)\n",
    "print(np.intersect1d(x1,x2))\n"
   ]
  },
  {
   "cell_type": "markdown",
   "id": "a2ed5224",
   "metadata": {},
   "source": [
    "# 24.How to get the dates of yesterday, today and tomorrow?"
   ]
  },
  {
   "cell_type": "code",
   "execution_count": 24,
   "id": "3b777600",
   "metadata": {},
   "outputs": [
    {
     "name": "stdout",
     "output_type": "stream",
     "text": [
      "Yestraday:  2021-09-05\n",
      "Today:  2021-09-06\n",
      "Tomorrow:  2021-09-07\n"
     ]
    }
   ],
   "source": [
    "import numpy as np\n",
    "yesterday = np.datetime64('today', 'D') - np.timedelta64(1, 'D')\n",
    "print(\"Yestraday: \",yesterday)\n",
    "today     = np.datetime64('today', 'D')\n",
    "print(\"Today: \",today)\n",
    "tomorrow  = np.datetime64('today', 'D') + np.timedelta64(1, 'D')\n",
    "print(\"Tomorrow: \",tomorrow)"
   ]
  },
  {
   "cell_type": "markdown",
   "id": "af6bfd16",
   "metadata": {},
   "source": [
    "# 25.How to get all the dates corresponding to the month of July 2016"
   ]
  },
  {
   "cell_type": "code",
   "execution_count": 25,
   "id": "5516a3cf",
   "metadata": {},
   "outputs": [
    {
     "name": "stdout",
     "output_type": "stream",
     "text": [
      "['2016-07-01' '2016-07-02' '2016-07-03' '2016-07-04' '2016-07-05'\n",
      " '2016-07-06' '2016-07-07' '2016-07-08' '2016-07-09' '2016-07-10'\n",
      " '2016-07-11' '2016-07-12' '2016-07-13' '2016-07-14' '2016-07-15'\n",
      " '2016-07-16' '2016-07-17' '2016-07-18' '2016-07-19' '2016-07-20'\n",
      " '2016-07-21' '2016-07-22' '2016-07-23' '2016-07-24' '2016-07-25'\n",
      " '2016-07-26' '2016-07-27' '2016-07-28' '2016-07-29' '2016-07-30'\n",
      " '2016-07-31']\n"
     ]
    }
   ],
   "source": [
    "x = np.arange('2016-07', '2016-08', dtype='datetime64[D]')\n",
    "print(x)"
   ]
  },
  {
   "cell_type": "markdown",
   "id": "dfda01d4",
   "metadata": {},
   "source": [
    "# 26.How to compute ((A+B)*(-A/2)) in place (without copy)?"
   ]
  },
  {
   "cell_type": "code",
   "execution_count": 26,
   "id": "be657a69",
   "metadata": {},
   "outputs": [
    {
     "data": {
      "text/plain": [
       "array([-1.5, -1.5, -1.5])"
      ]
     },
     "execution_count": 26,
     "metadata": {},
     "output_type": "execute_result"
    }
   ],
   "source": [
    "A = np.ones(3)*1\n",
    "B = np.ones(3)*2\n",
    "C = np.ones(3)*3\n",
    "np.add(A,B,out=B)\n",
    "np.divide(A,2,out=A)\n",
    "np.negative(A,out=A)\n",
    "np.multiply(A,B,out=A)"
   ]
  },
  {
   "cell_type": "markdown",
   "id": "3070ff16",
   "metadata": {},
   "source": [
    "# 27.Extract the integer part of a random array of positive numbers using 4 different methods"
   ]
  },
  {
   "cell_type": "code",
   "execution_count": 27,
   "id": "8acd792e",
   "metadata": {},
   "outputs": [
    {
     "name": "stdout",
     "output_type": "stream",
     "text": [
      "[1. 8. 5. 3. 8. 1. 0. 6. 4. 9.]\n",
      "[1. 8. 5. 3. 8. 1. 0. 6. 4. 9.]\n",
      "[1. 8. 5. 3. 8. 1. 0. 6. 4. 9.]\n",
      "[1 8 5 3 8 1 0 6 4 9]\n"
     ]
    }
   ],
   "source": [
    "x = np.random.uniform(0,10,10)\n",
    "print (x - x%1)\n",
    "print (np.floor(x))\n",
    "print (np.ceil(x)-1)\n",
    "print (x.astype(int))"
   ]
  },
  {
   "cell_type": "markdown",
   "id": "7b54bccb",
   "metadata": {},
   "source": [
    "# 28.Create a 5x5 matrix with row values ranging from 0 to 4"
   ]
  },
  {
   "cell_type": "code",
   "execution_count": 28,
   "id": "237eeb93",
   "metadata": {},
   "outputs": [
    {
     "name": "stdout",
     "output_type": "stream",
     "text": [
      "[[0. 1. 2. 3. 4.]\n",
      " [0. 1. 2. 3. 4.]\n",
      " [0. 1. 2. 3. 4.]\n",
      " [0. 1. 2. 3. 4.]\n",
      " [0. 1. 2. 3. 4.]]\n"
     ]
    }
   ],
   "source": [
    "x = np.zeros((5,5))\n",
    "x += np.arange(5)\n",
    "print(x)"
   ]
  },
  {
   "cell_type": "markdown",
   "id": "5ceabcbb",
   "metadata": {},
   "source": [
    "# 29.Consider a generator function that generates 10 integers and use it to build an array"
   ]
  },
  {
   "cell_type": "code",
   "execution_count": 29,
   "id": "813daa7e",
   "metadata": {},
   "outputs": [
    {
     "name": "stdout",
     "output_type": "stream",
     "text": [
      "[0. 1. 2. 3. 4. 5. 6. 7. 8. 9.]\n"
     ]
    }
   ],
   "source": [
    "def generate():\n",
    "    for x in range(10):\n",
    "        yield x\n",
    "Z = np.fromiter(generate(),dtype=float,count=-1)\n",
    "print(Z)"
   ]
  },
  {
   "cell_type": "markdown",
   "id": "c4c3e2de",
   "metadata": {},
   "source": [
    "# 30.Create a vector of size 10 with values ranging from 0 to 1, both excluded"
   ]
  },
  {
   "cell_type": "code",
   "execution_count": 30,
   "id": "fdb56258",
   "metadata": {},
   "outputs": [
    {
     "name": "stdout",
     "output_type": "stream",
     "text": [
      "[0.09090909 0.18181818 0.27272727 0.36363636 0.45454545 0.54545455\n",
      " 0.63636364 0.72727273 0.81818182 0.90909091]\n"
     ]
    }
   ],
   "source": [
    "x = np.linspace(0,1,11,endpoint=False)[1:]\n",
    "print(x)"
   ]
  },
  {
   "cell_type": "markdown",
   "id": "a80e6fac",
   "metadata": {},
   "source": [
    "# 31.Create a random vector of size 10 and sort it"
   ]
  },
  {
   "cell_type": "code",
   "execution_count": 31,
   "id": "ca47cad3",
   "metadata": {},
   "outputs": [
    {
     "name": "stdout",
     "output_type": "stream",
     "text": [
      "[0.01112623 0.08495781 0.10869356 0.14839612 0.62483668 0.63958343\n",
      " 0.68358566 0.70167242 0.8394017  0.9422351 ]\n"
     ]
    }
   ],
   "source": [
    "x = np.random.random(10)\n",
    "x.sort()\n",
    "print(x)"
   ]
  },
  {
   "cell_type": "markdown",
   "id": "3df337cb",
   "metadata": {},
   "source": [
    "# 32.How to sum a small array faster than np.sum?"
   ]
  },
  {
   "cell_type": "code",
   "execution_count": 32,
   "id": "06522056",
   "metadata": {},
   "outputs": [
    {
     "data": {
      "text/plain": [
       "45"
      ]
     },
     "execution_count": 32,
     "metadata": {},
     "output_type": "execute_result"
    }
   ],
   "source": [
    "x = np.arange(10)\n",
    "np.add.reduce(x)"
   ]
  },
  {
   "cell_type": "markdown",
   "id": "6408d3c1",
   "metadata": {},
   "source": [
    "# 33.Consider two random array A and B, check if they are equal"
   ]
  },
  {
   "cell_type": "code",
   "execution_count": 33,
   "id": "d947995e",
   "metadata": {},
   "outputs": [
    {
     "name": "stdout",
     "output_type": "stream",
     "text": [
      "[0 0 1 0 1]\n",
      "********************\n",
      "[0 0 1 0 0]\n",
      "********************\n"
     ]
    }
   ],
   "source": [
    "A = np.random.randint(0,2,5)\n",
    "B = np.random.randint(0,2,5)\n",
    "print(A)\n",
    "print('*'*20)\n",
    "print(B)\n",
    "print('*'*20)"
   ]
  },
  {
   "cell_type": "markdown",
   "id": "a71df0b1",
   "metadata": {},
   "source": [
    "# 34.Make an array immutable (read-only)"
   ]
  },
  {
   "cell_type": "code",
   "execution_count": 34,
   "id": "6a75f1a4",
   "metadata": {},
   "outputs": [
    {
     "name": "stdout",
     "output_type": "stream",
     "text": [
      "Before any change \n",
      "[0. 0. 0. 0. 0. 0. 0.]\n",
      "Before after first change \n",
      "[0. 2. 0. 0. 0. 0. 0.]\n"
     ]
    }
   ],
   "source": [
    "import numpy as np\n",
    " \n",
    "a = np.zeros(7)\n",
    "print(\"Before any change \")\n",
    "print(a)\n",
    " \n",
    "a[1] = 2\n",
    "print(\"Before after first change \")\n",
    "print(a)\n",
    "  "
   ]
  },
  {
   "cell_type": "markdown",
   "id": "2c9a3829",
   "metadata": {},
   "source": [
    "# 35.Consider a random 10x2 matrix representing cartesian coordinates, convert them to polar coordinates"
   ]
  },
  {
   "cell_type": "code",
   "execution_count": 35,
   "id": "10f73ed7",
   "metadata": {},
   "outputs": [
    {
     "name": "stdout",
     "output_type": "stream",
     "text": [
      "[1.19969816 0.54272539 1.00137971 0.93043616 0.60204736 0.86548313\n",
      " 0.85456389 0.82746035 1.15813119 0.73852324]\n",
      "[0.94852108 1.30874242 0.09970612 0.91208292 0.86877612 0.59124716\n",
      " 0.68191458 0.30567047 0.77049408 0.02628205]\n"
     ]
    }
   ],
   "source": [
    "Z = np.random.random((10,2))\n",
    "X,Y = Z[:,0], Z[:,1]\n",
    "R = np.sqrt(X**2+Y**2)\n",
    "T = np.arctan2(Y,X)\n",
    "print(R)\n",
    "print(T)"
   ]
  },
  {
   "cell_type": "markdown",
   "id": "f8f8521c",
   "metadata": {},
   "source": [
    "# 36.Create random vector of size 10 and replace the maximum value by 0"
   ]
  },
  {
   "cell_type": "code",
   "execution_count": 36,
   "id": "86e0103b",
   "metadata": {},
   "outputs": [
    {
     "name": "stdout",
     "output_type": "stream",
     "text": [
      "[0.         0.29515429 0.6714423  0.70847007 0.74966135 0.24096109\n",
      " 0.7774281  0.20240839 0.10379304 0.51584637]\n"
     ]
    }
   ],
   "source": [
    "x = np.random.random(10)\n",
    "x[x.argmax()] = 0\n",
    "print(x)"
   ]
  },
  {
   "cell_type": "markdown",
   "id": "b9b93aad",
   "metadata": {},
   "source": [
    "# 37.Create a structured array with x and y coordinates covering the [0,1]x[0,1] area"
   ]
  },
  {
   "cell_type": "code",
   "execution_count": 37,
   "id": "86f0e536",
   "metadata": {},
   "outputs": [
    {
     "name": "stdout",
     "output_type": "stream",
     "text": [
      "[[(0.  , 0.  ) (0.25, 0.  ) (0.5 , 0.  ) (0.75, 0.  ) (1.  , 0.  )]\n",
      " [(0.  , 0.25) (0.25, 0.25) (0.5 , 0.25) (0.75, 0.25) (1.  , 0.25)]\n",
      " [(0.  , 0.5 ) (0.25, 0.5 ) (0.5 , 0.5 ) (0.75, 0.5 ) (1.  , 0.5 )]\n",
      " [(0.  , 0.75) (0.25, 0.75) (0.5 , 0.75) (0.75, 0.75) (1.  , 0.75)]\n",
      " [(0.  , 1.  ) (0.25, 1.  ) (0.5 , 1.  ) (0.75, 1.  ) (1.  , 1.  )]]\n"
     ]
    }
   ],
   "source": [
    "Z = np.zeros((5,5), [('x',float),('y',float)])\n",
    "Z['x'], Z['y'] = np.meshgrid(np.linspace(0,1,5),\n",
    "                             np.linspace(0,1,5))\n",
    "print(Z)"
   ]
  },
  {
   "cell_type": "markdown",
   "id": "9504c650",
   "metadata": {},
   "source": [
    "# 38 Print the minimum and maximum representable value for each numpy scalar type"
   ]
  },
  {
   "cell_type": "code",
   "execution_count": 38,
   "id": "97c25bd1",
   "metadata": {},
   "outputs": [
    {
     "name": "stdout",
     "output_type": "stream",
     "text": [
      "-128\n",
      "127\n",
      "-2147483648\n",
      "2147483647\n",
      "-9223372036854775808\n",
      "9223372036854775807\n",
      "-3.4028235e+38\n",
      "3.4028235e+38\n",
      "1.1920929e-07\n",
      "-1.7976931348623157e+308\n",
      "1.7976931348623157e+308\n",
      "2.220446049250313e-16\n"
     ]
    }
   ],
   "source": [
    "for dtype in [np.int8, np.int32, np.int64]:\n",
    "    print(np.iinfo(dtype).min)\n",
    "    print(np.iinfo(dtype).max)\n",
    "for dtype in [np.float32, np.float64]:\n",
    "    print(np.finfo(dtype).min)\n",
    "    print(np.finfo(dtype).max)\n",
    "    print(np.finfo(dtype).eps)"
   ]
  },
  {
   "cell_type": "markdown",
   "id": "35806e2b",
   "metadata": {},
   "source": [
    "# 39.Given two arrays, X and Y, construct the Cauchy matrix C (Cij =1/(xi - yj))"
   ]
  },
  {
   "cell_type": "markdown",
   "id": "b8ba086b",
   "metadata": {},
   "source": [
    "# 39.Given two arrays, X and Y, construct the Cauchy matrix C (Cij =1/(xi - yj))"
   ]
  },
  {
   "cell_type": "code",
   "execution_count": 39,
   "id": "64f1dee4",
   "metadata": {},
   "outputs": [
    {
     "name": "stdout",
     "output_type": "stream",
     "text": [
      "[[ 9  0 10  1  2  4  6  2 10  0]]\n",
      "[18 16 18 14 12 11 18 19 15 18]\n",
      "[[18 18 18 18 18 18 18 18 18 18]\n",
      " [16 16 16 16 16 16 16 16 16 16]\n",
      " [18 18 18 18 18 18 18 18 18 18]\n",
      " [14 14 14 14 14 14 14 14 14 14]\n",
      " [12 12 12 12 12 12 12 12 12 12]\n",
      " [11 11 11 11 11 11 11 11 11 11]\n",
      " [18 18 18 18 18 18 18 18 18 18]\n",
      " [19 19 19 19 19 19 19 19 19 19]\n",
      " [15 15 15 15 15 15 15 15 15 15]\n",
      " [18 18 18 18 18 18 18 18 18 18]]\n"
     ]
    }
   ],
   "source": [
    "Y = np.random.randint(0,11,10)\n",
    "X = np.random.randint(11,22,10)\n",
    "print(Y.reshape(1,10))\n",
    "Y = np.tile(Y,(10,1))\n",
    "print(X)\n",
    "X  = np.tile(X,(10,1)).T\n",
    "print(X)\n",
    "C = 1/(X - Y)\n"
   ]
  },
  {
   "cell_type": "markdown",
   "id": "ad943477",
   "metadata": {},
   "source": [
    "# 40 Create a structured array representing a position (x,y) and a color (r,g,b)"
   ]
  },
  {
   "cell_type": "code",
   "execution_count": 40,
   "id": "795cff4b",
   "metadata": {},
   "outputs": [
    {
     "name": "stdout",
     "output_type": "stream",
     "text": [
      "[((0., 0.), (0., 0., 0.)) ((0., 0.), (0., 0., 0.))\n",
      " ((0., 0.), (0., 0., 0.)) ((0., 0.), (0., 0., 0.))\n",
      " ((0., 0.), (0., 0., 0.)) ((0., 0.), (0., 0., 0.))\n",
      " ((0., 0.), (0., 0., 0.)) ((0., 0.), (0., 0., 0.))\n",
      " ((0., 0.), (0., 0., 0.)) ((0., 0.), (0., 0., 0.))]\n"
     ]
    }
   ],
   "source": [
    "import numpy as np\n",
    "Z = np.zeros(10, [ ('position', [ ('x', float),\n",
    "                                  ('y', float)]),\n",
    "                   ('color',    [ ('r', float),\n",
    "                                  ('g', float),\n",
    "                                  ('b', float)])])\n",
    "print(Z)"
   ]
  },
  {
   "cell_type": "code",
   "execution_count": null,
   "id": "6d82d6a0",
   "metadata": {},
   "outputs": [],
   "source": []
  }
 ],
 "metadata": {
  "kernelspec": {
   "display_name": "Python 3",
   "language": "python",
   "name": "python3"
  },
  "language_info": {
   "codemirror_mode": {
    "name": "ipython",
    "version": 3
   },
   "file_extension": ".py",
   "mimetype": "text/x-python",
   "name": "python",
   "nbconvert_exporter": "python",
   "pygments_lexer": "ipython3",
   "version": "3.8.8"
  }
 },
 "nbformat": 4,
 "nbformat_minor": 5
}
