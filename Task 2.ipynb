{
 "cells": [
  {
   "cell_type": "markdown",
   "id": "75818f4a",
   "metadata": {},
   "source": [
    "# 1.How to convert a float (32 bits) array into an integer (32 bits) in place"
   ]
  },
  {
   "cell_type": "code",
   "execution_count": 4,
   "id": "843a75fd",
   "metadata": {},
   "outputs": [
    {
     "name": "stdout",
     "output_type": "stream",
     "text": [
      "[ 0  1  2  3  4  5  6  7  8  9 10 11 12 13 14]\n"
     ]
    }
   ],
   "source": [
    "import numpy as np\n",
    "x = np.arange(15, dtype=np.float32)\n",
    "x = x.astype(np.int32)\n",
    "print(x)"
   ]
  },
  {
   "cell_type": "markdown",
   "id": "2b212f0c",
   "metadata": {},
   "source": [
    "# 2.Create a 3x3 matrix with values ranging from 0 to 8"
   ]
  },
  {
   "cell_type": "code",
   "execution_count": 4,
   "id": "17f8f894",
   "metadata": {},
   "outputs": [
    {
     "name": "stdout",
     "output_type": "stream",
     "text": [
      "[[0 1 2]\n",
      " [3 4 5]\n",
      " [6 7 8]]\n"
     ]
    }
   ],
   "source": [
    "import numpy as np\n",
    "x =  np.arange(0, 9).reshape(3,3)\n",
    "print(x)"
   ]
  },
  {
   "cell_type": "markdown",
   "id": "4286ab73",
   "metadata": {},
   "source": [
    "# 3.Find indices of non-zero elements from [1,2,0,0,4,0]"
   ]
  },
  {
   "cell_type": "code",
   "execution_count": 5,
   "id": "2bcaccb9",
   "metadata": {},
   "outputs": [
    {
     "name": "stdout",
     "output_type": "stream",
     "text": [
      "Original array:\n",
      "[1 2 0 0 4 0]\n",
      "Indices of elements equal to non-zero of the said array:\n",
      "[2 3 5]\n"
     ]
    }
   ],
   "source": [
    "import numpy as np\n",
    "nums = np.array([1,2,0,0,4,0])\n",
    "print(\"Original array:\")\n",
    "print(nums)\n",
    "print(\"Indices of elements equal to non-zero of the said array:\")\n",
    "result = np.where(nums == 0)[0]\n",
    "print(result)"
   ]
  },
  {
   "cell_type": "markdown",
   "id": "bacb868d",
   "metadata": {},
   "source": [
    "# 4.Create a 5x5 matrix with values 1,2,3,4 just below the diagonal\n",
    "Eg:\n",
    "0 0 0 0 0\n",
    "1 0 0 0 0\n",
    "0 2 0 0 0\n",
    "0 0 3 0 0\n",
    "0 0 0 4 0"
   ]
  },
  {
   "cell_type": "code",
   "execution_count": 6,
   "id": "9b60ddd1",
   "metadata": {},
   "outputs": [
    {
     "name": "stdout",
     "output_type": "stream",
     "text": [
      "[[1 0 0 0]\n",
      " [0 2 0 0]\n",
      " [0 0 3 0]\n",
      " [0 0 0 4]]\n"
     ]
    }
   ],
   "source": [
    "import numpy as np\n",
    "x = np.diag([1, 2, 3, 4])\n",
    "print(x)"
   ]
  },
  {
   "cell_type": "markdown",
   "id": "e7818490",
   "metadata": {},
   "source": [
    "# 5.Create a 10x10x10 array with random values"
   ]
  },
  {
   "cell_type": "code",
   "execution_count": 12,
   "id": "fa4f16dd",
   "metadata": {},
   "outputs": [
    {
     "data": {
      "text/plain": [
       "array([[[34, 90, 49, 37, 53,  1, 16, 35, 10, 46],\n",
       "        [35, 90, 50,  3, 20, 95, 97, 73, 75,  8],\n",
       "        [82, 98, 52, 84, 73, 45, 88, 72, 44, 79],\n",
       "        [52, 75,  6, 42, 23, 42, 76, 86, 25, 12],\n",
       "        [33, 81,  0, 77, 91, 98, 32, 47, 70, 88],\n",
       "        [92, 61,  0, 40, 71, 19, 40, 82, 35, 76],\n",
       "        [15, 79,  8, 45, 75, 27, 86, 21, 12, 84],\n",
       "        [52, 56, 97, 32, 64, 17, 16, 75, 91, 54],\n",
       "        [ 9, 36, 75, 63, 98, 45, 90, 13, 79, 88],\n",
       "        [78, 98, 37, 49, 61, 89, 78, 34, 24,  3]],\n",
       "\n",
       "       [[51, 67, 70, 36, 90, 46, 87, 86, 31, 96],\n",
       "        [83, 34, 91, 98, 38,  2, 40, 53, 83, 58],\n",
       "        [ 9,  2, 94, 38, 98, 55,  2, 62, 81, 37],\n",
       "        [66, 65, 86, 81, 38, 61, 35, 28, 82, 23],\n",
       "        [83, 21, 32, 69, 26, 87, 49, 97, 21, 99],\n",
       "        [14, 44, 99, 44, 76, 23, 30, 81, 63, 50],\n",
       "        [54, 99, 22, 13, 86, 60, 56,  4, 22, 58],\n",
       "        [35, 40, 19, 70, 81,  4, 89,  1, 18,  4],\n",
       "        [79, 63,  1, 82,  4, 47, 34,  7, 12, 19],\n",
       "        [98, 56, 35, 85, 81, 27, 35, 29, 49, 75]],\n",
       "\n",
       "       [[94, 64, 80, 32, 87, 16, 37, 95, 26, 86],\n",
       "        [37, 30,  2, 48, 80, 84, 65, 34, 21, 99],\n",
       "        [64,  2, 88, 47,  7, 72, 43,  8,  2,  7],\n",
       "        [ 3, 18, 43, 56, 95, 24, 95, 18,  7, 93],\n",
       "        [28,  5, 64,  9, 51, 33, 54, 34,  8, 18],\n",
       "        [20, 45, 81, 32, 27, 48, 54, 80, 98,  8],\n",
       "        [35, 62, 35, 33, 46, 65, 37,  2, 17, 51],\n",
       "        [50, 78, 26, 85, 97, 97, 52, 22, 84, 69],\n",
       "        [60, 30,  2, 71, 93, 13,  3, 73, 49,  5],\n",
       "        [79, 64, 48, 69, 20, 76,  3, 20, 63, 66]],\n",
       "\n",
       "       [[43, 16, 80, 60, 48, 79, 61, 96, 37, 55],\n",
       "        [ 2, 10, 13, 27, 97, 33, 16, 78, 10, 17],\n",
       "        [15, 80, 50, 66, 20, 14, 43, 77, 91, 36],\n",
       "        [ 9, 45, 86, 86, 13, 58, 79, 90, 16, 69],\n",
       "        [65, 93, 12, 87, 32, 78, 52, 65, 10, 85],\n",
       "        [59, 27, 78, 73, 93, 77, 11,  6, 15, 37],\n",
       "        [57, 51, 43, 35, 13, 73, 15, 87, 30, 19],\n",
       "        [63, 21, 57, 17, 55, 73,  2, 64, 69, 18],\n",
       "        [ 3, 19, 45, 37, 25, 51, 34, 14, 56, 74],\n",
       "        [33, 20,  7, 97, 92, 14, 36, 15, 97, 77]],\n",
       "\n",
       "       [[86, 30,  1, 48, 12, 36, 39, 77, 49, 83],\n",
       "        [13, 94, 18, 51, 24, 41, 60, 20, 40, 28],\n",
       "        [92, 30, 50, 56, 66, 47, 18, 18, 51, 86],\n",
       "        [61, 17, 65, 98, 34, 73, 15, 83,  8, 96],\n",
       "        [26, 39, 78, 34, 94, 38, 34, 96, 73, 71],\n",
       "        [63, 52, 92,  8, 92, 55, 26, 86, 71, 90],\n",
       "        [76, 11, 13,  3, 23, 66, 66, 28, 87, 60],\n",
       "        [17, 34, 47, 95,  9, 51, 46, 85, 12, 73],\n",
       "        [68,  5, 81, 38, 78, 62, 55, 57, 80, 76],\n",
       "        [16, 64, 55,  0, 76, 21, 37, 66, 31, 69]],\n",
       "\n",
       "       [[46,  1, 30, 67, 77, 77, 65,  5, 26, 62],\n",
       "        [22, 87, 15, 79, 32, 27, 82, 83, 16, 55],\n",
       "        [63, 47, 19, 68, 17,  4, 45, 20, 24,  9],\n",
       "        [93, 39, 84, 56, 86, 96, 99,  3,  7, 37],\n",
       "        [72,  8, 80, 68, 62,  6, 75, 87, 51, 78],\n",
       "        [36, 18, 15, 57, 76, 21, 49,  9, 21, 71],\n",
       "        [59,  9, 22, 73, 41, 85, 38, 50, 14, 70],\n",
       "        [27, 61, 70,  2, 86, 62, 81, 92,  9, 56],\n",
       "        [68, 37, 78, 98,  1, 90, 23, 40, 66, 87],\n",
       "        [80, 88, 35, 93, 88, 55, 23, 32,  7,  6]],\n",
       "\n",
       "       [[83, 73, 67, 46, 38, 18, 27, 11, 32, 88],\n",
       "        [40, 80, 42, 54, 14, 90, 44, 61, 55, 63],\n",
       "        [25, 24, 21, 64, 19, 89, 96, 43, 47, 59],\n",
       "        [71, 44, 10, 73, 37, 75, 30, 45, 42, 74],\n",
       "        [31, 72, 64, 44, 13, 55, 10, 19, 28, 99],\n",
       "        [61, 41, 36, 63,  9, 93, 29,  3, 96, 58],\n",
       "        [33, 96, 86, 46, 26, 68, 91, 98, 82, 14],\n",
       "        [50, 55,  9, 57, 10, 85, 51, 29, 63, 62],\n",
       "        [72, 73, 32,  4, 97,  3, 87, 79, 83,  2],\n",
       "        [76, 87, 79, 45, 98, 94, 64, 28, 73, 63]],\n",
       "\n",
       "       [[49,  8, 30, 59, 11, 11,  3, 59, 58, 62],\n",
       "        [45,  3, 44, 40,  4, 23, 70, 11, 62, 55],\n",
       "        [59, 66, 65, 22, 44, 18, 89, 11, 44, 34],\n",
       "        [13,  2, 99, 43, 17, 38,  3, 45, 82, 16],\n",
       "        [69, 64,  9, 92, 11, 58, 44, 44, 34, 29],\n",
       "        [71, 96, 72, 35, 76, 75, 26, 98, 32, 49],\n",
       "        [44, 26, 24,  8, 76, 45, 40,  9, 88, 50],\n",
       "        [70, 22, 62, 29, 75, 35, 86, 66, 48, 90],\n",
       "        [79, 24, 44, 95, 59, 11, 81, 12, 31, 73],\n",
       "        [46, 52, 33, 73, 23, 34, 42, 18, 15, 83]],\n",
       "\n",
       "       [[59, 16, 37, 74, 94, 58, 43, 24, 22, 69],\n",
       "        [94, 88, 94,  3, 19, 48, 71, 43, 16, 73],\n",
       "        [26, 26, 71, 96, 17,  0, 30, 42, 33, 34],\n",
       "        [70, 62, 38, 13, 78, 63,  9, 35, 11, 79],\n",
       "        [12, 17, 24, 13, 56, 73, 28, 79, 27, 81],\n",
       "        [13,  0, 71, 43, 71, 83, 54,  9, 70, 56],\n",
       "        [51, 99, 49, 81, 57, 72, 13, 25, 18, 21],\n",
       "        [ 1, 69,  7, 92, 40, 60, 58, 17, 34, 20],\n",
       "        [48, 37, 79, 96,  3, 28, 52, 28, 46, 89],\n",
       "        [82, 35, 80, 21, 96, 34, 87, 44, 56, 88]],\n",
       "\n",
       "       [[49,  2, 49, 41, 46,  5, 76,  0, 44, 40],\n",
       "        [20, 76, 86, 89, 78, 36,  0, 64, 47, 26],\n",
       "        [86, 74, 35, 33, 20, 27, 52, 78, 28, 26],\n",
       "        [37, 47, 41, 89, 85,  0, 33, 67, 16, 55],\n",
       "        [ 3, 40, 17, 28, 51,  1, 90, 33, 26, 99],\n",
       "        [74, 67, 57, 46, 30, 83, 42, 47,  9, 61],\n",
       "        [11, 64, 58, 97, 36, 89, 91, 99, 78, 19],\n",
       "        [ 3, 11, 12, 41, 55, 93, 49,  4, 48,  8],\n",
       "        [75, 44, 30, 17, 94, 66, 67, 72, 59,  9],\n",
       "        [ 9, 41, 42, 53, 50, 76, 42, 24, 44,  6]]])"
      ]
     },
     "execution_count": 12,
     "metadata": {},
     "output_type": "execute_result"
    }
   ],
   "source": [
    "import numpy as np\n",
    "arr = np.random.randint (100, size=(10,10,10))\n",
    "arr"
   ]
  },
  {
   "cell_type": "markdown",
   "id": "90e56adf",
   "metadata": {},
   "source": [
    "# 6.Create a 8x8 matrix and fill it with a checkerboard pattern"
   ]
  },
  {
   "cell_type": "code",
   "execution_count": 13,
   "id": "7976247e",
   "metadata": {},
   "outputs": [
    {
     "name": "stdout",
     "output_type": "stream",
     "text": [
      "Checkerboard pattern:\n",
      "[[0 1 0 1 0 1 0 1]\n",
      " [1 0 1 0 1 0 1 0]\n",
      " [0 1 0 1 0 1 0 1]\n",
      " [1 0 1 0 1 0 1 0]\n",
      " [0 1 0 1 0 1 0 1]\n",
      " [1 0 1 0 1 0 1 0]\n",
      " [0 1 0 1 0 1 0 1]\n",
      " [1 0 1 0 1 0 1 0]]\n"
     ]
    }
   ],
   "source": [
    "import numpy as np\n",
    "x = np.ones((3,3))\n",
    "print(\"Checkerboard pattern:\")\n",
    "x = np.zeros((8,8),dtype=int)\n",
    "x[1::2,::2] = 1\n",
    "x[::2,1::2] = 1\n",
    "print(x)"
   ]
  },
  {
   "cell_type": "markdown",
   "id": "9b919c01",
   "metadata": {},
   "source": [
    "# 7.Create a 10x10 array with random values and find the minimum and maximum values"
   ]
  },
  {
   "cell_type": "code",
   "execution_count": 14,
   "id": "41431538",
   "metadata": {},
   "outputs": [
    {
     "name": "stdout",
     "output_type": "stream",
     "text": [
      "Original Array:\n",
      "[[0.39575334 0.788697   0.88605854 0.45305208 0.92048951 0.32558464\n",
      "  0.60606814 0.96762341 0.72346675 0.33722525]\n",
      " [0.68692653 0.74007845 0.5722994  0.18955236 0.13766343 0.06707516\n",
      "  0.74050962 0.70172019 0.71995817 0.02512975]\n",
      " [0.12818968 0.91831439 0.11218177 0.47484823 0.0479269  0.7211946\n",
      "  0.51760631 0.59016386 0.89274372 0.42026247]\n",
      " [0.50467109 0.94749048 0.37158402 0.46153701 0.21314538 0.84066039\n",
      "  0.55636933 0.47620417 0.70349767 0.26457729]\n",
      " [0.75746423 0.41160101 0.39049839 0.88506775 0.47785613 0.52829323\n",
      "  0.96979276 0.37978935 0.62232318 0.82767191]\n",
      " [0.41478511 0.63120116 0.63686872 0.33297011 0.58249232 0.69815699\n",
      "  0.05333901 0.63803334 0.69261052 0.46243293]\n",
      " [0.85605208 0.40567957 0.98202538 0.94396445 0.66001431 0.37851132\n",
      "  0.71464016 0.34990725 0.22651779 0.53293069]\n",
      " [0.1570793  0.08630972 0.88494246 0.0581943  0.79036082 0.38654815\n",
      "  0.92880424 0.6184045  0.86467035 0.30836243]\n",
      " [0.67888415 0.76002528 0.18797327 0.02783831 0.26178997 0.79614558\n",
      "  0.57923132 0.65167432 0.98419003 0.61134935]\n",
      " [0.17357734 0.51598894 0.70231343 0.20059477 0.79493437 0.54603116\n",
      "  0.28953961 0.53471524 0.48075074 0.38003381]]\n",
      "Minimum and Maximum Values:\n",
      "0.025129745645455892 0.9841900265284226\n"
     ]
    }
   ],
   "source": [
    "import numpy as np\n",
    "x = np.random.random((10,10))\n",
    "print(\"Original Array:\")\n",
    "print(x) \n",
    "xmin, xmax = x.min(), x.max()\n",
    "print(\"Minimum and Maximum Values:\")\n",
    "print(xmin, xmax)"
   ]
  },
  {
   "cell_type": "markdown",
   "id": "c44d8672",
   "metadata": {},
   "source": [
    "# 8.Create a 10x10 matrix with row values ranging from 0 to 9"
   ]
  },
  {
   "cell_type": "code",
   "execution_count": 16,
   "id": "06cd5a89",
   "metadata": {},
   "outputs": [
    {
     "name": "stdout",
     "output_type": "stream",
     "text": [
      "Original array:\n",
      "[[0. 0. 0. 0. 0. 0. 0. 0. 0. 0.]\n",
      " [0. 0. 0. 0. 0. 0. 0. 0. 0. 0.]\n",
      " [0. 0. 0. 0. 0. 0. 0. 0. 0. 0.]\n",
      " [0. 0. 0. 0. 0. 0. 0. 0. 0. 0.]\n",
      " [0. 0. 0. 0. 0. 0. 0. 0. 0. 0.]\n",
      " [0. 0. 0. 0. 0. 0. 0. 0. 0. 0.]\n",
      " [0. 0. 0. 0. 0. 0. 0. 0. 0. 0.]\n",
      " [0. 0. 0. 0. 0. 0. 0. 0. 0. 0.]\n",
      " [0. 0. 0. 0. 0. 0. 0. 0. 0. 0.]\n",
      " [0. 0. 0. 0. 0. 0. 0. 0. 0. 0.]]\n",
      "Row values ranging from 0 to 9.\n",
      "[[0. 1. 2. 3. 4. 5. 6. 7. 8. 9.]\n",
      " [0. 1. 2. 3. 4. 5. 6. 7. 8. 9.]\n",
      " [0. 1. 2. 3. 4. 5. 6. 7. 8. 9.]\n",
      " [0. 1. 2. 3. 4. 5. 6. 7. 8. 9.]\n",
      " [0. 1. 2. 3. 4. 5. 6. 7. 8. 9.]\n",
      " [0. 1. 2. 3. 4. 5. 6. 7. 8. 9.]\n",
      " [0. 1. 2. 3. 4. 5. 6. 7. 8. 9.]\n",
      " [0. 1. 2. 3. 4. 5. 6. 7. 8. 9.]\n",
      " [0. 1. 2. 3. 4. 5. 6. 7. 8. 9.]\n",
      " [0. 1. 2. 3. 4. 5. 6. 7. 8. 9.]]\n"
     ]
    }
   ],
   "source": [
    "import numpy as np\n",
    "x = np.zeros((10,10))\n",
    "print(\"Original array:\")\n",
    "print(x)\n",
    "print(\"Row values ranging from 0 to 9.\")\n",
    "x += np.arange(10)\n",
    "print(x)"
   ]
  },
  {
   "cell_type": "markdown",
   "id": "25078a24",
   "metadata": {},
   "source": [
    "# 9.Consider two random matrices A anb B, check if they are equal."
   ]
  },
  {
   "cell_type": "code",
   "execution_count": 18,
   "id": "e7745e3f",
   "metadata": {},
   "outputs": [
    {
     "name": "stdout",
     "output_type": "stream",
     "text": [
      "True\n"
     ]
    }
   ],
   "source": [
    "A = np.random.randint(0,1,2)\n",
    "B = np.random.randint(0,1,2)\n",
    "equal = np.allclose(A,B)\n",
    "print(equal)"
   ]
  },
  {
   "cell_type": "markdown",
   "id": "f0a910db",
   "metadata": {},
   "source": [
    "# 10.Create a random vector of size 1000 and find the mean value"
   ]
  },
  {
   "cell_type": "code",
   "execution_count": 19,
   "id": "91b2e471",
   "metadata": {},
   "outputs": [
    {
     "name": "stdout",
     "output_type": "stream",
     "text": [
      "Average of the array elements:\n",
      "-0.024225354598720217\n"
     ]
    }
   ],
   "source": [
    "\n",
    "import numpy as np\n",
    "x = np.random.randn(1000)\n",
    "print(\"Average of the array elements:\")\n",
    "mean = x.mean()\n",
    "print(mean)"
   ]
  },
  {
   "cell_type": "markdown",
   "id": "7ba6358f",
   "metadata": {},
   "source": [
    "# 11.Create random vector of size 100 and replace the maximum value by 0"
   ]
  },
  {
   "cell_type": "code",
   "execution_count": 21,
   "id": "8738d2d2",
   "metadata": {},
   "outputs": [
    {
     "name": "stdout",
     "output_type": "stream",
     "text": [
      "Original array:\n",
      "[0.42238695 0.03323889 0.68518404 0.82935629 0.97756211 0.26752965\n",
      " 0.49859228 0.7707461  0.90262044 0.02802842 0.62524887 0.1556384\n",
      " 0.81176747 0.04060601 0.47773929 0.31408669 0.07215969 0.10982873\n",
      " 0.09276426 0.03201236 0.7671518  0.67885215 0.75078488 0.30995164\n",
      " 0.00974549 0.0788941  0.6048819  0.83228565 0.03145178 0.06040011\n",
      " 0.88903412 0.68467034 0.81300111 0.15657866 0.04253902 0.49235145\n",
      " 0.391351   0.15173634 0.32090366 0.39218347 0.98444801 0.19512773\n",
      " 0.90489667 0.57511965 0.09607728 0.89836491 0.00955427 0.92918137\n",
      " 0.77797181 0.90002888 0.29684779 0.87914534 0.08434117 0.99207153\n",
      " 0.67914408 0.3214814  0.43071329 0.64357308 0.57546901 0.57891252\n",
      " 0.21286047 0.12376767 0.50917229 0.4620497  0.74968235 0.76584263\n",
      " 0.14370353 0.39685273 0.85879901 0.12671881 0.39371539 0.7413362\n",
      " 0.95430498 0.82281988 0.54196016 0.57510442 0.55111896 0.47610625\n",
      " 0.13191877 0.60913084 0.37970786 0.94764139 0.82194114 0.40635278\n",
      " 0.18194888 0.44738155 0.68970438 0.24955781 0.70080036 0.38922842\n",
      " 0.7804126  0.68056021 0.27544941 0.30682034 0.02281206 0.14021512\n",
      " 0.39537599 0.32283809 0.91827849 0.35820252]\n",
      "Maximum value replaced by 0:\n",
      "[0.42238695 0.03323889 0.68518404 0.82935629 0.97756211 0.26752965\n",
      " 0.49859228 0.7707461  0.90262044 0.02802842 0.62524887 0.1556384\n",
      " 0.81176747 0.04060601 0.47773929 0.31408669 0.07215969 0.10982873\n",
      " 0.09276426 0.03201236 0.7671518  0.67885215 0.75078488 0.30995164\n",
      " 0.00974549 0.0788941  0.6048819  0.83228565 0.03145178 0.06040011\n",
      " 0.88903412 0.68467034 0.81300111 0.15657866 0.04253902 0.49235145\n",
      " 0.391351   0.15173634 0.32090366 0.39218347 0.98444801 0.19512773\n",
      " 0.90489667 0.57511965 0.09607728 0.89836491 0.00955427 0.92918137\n",
      " 0.77797181 0.90002888 0.29684779 0.87914534 0.08434117 0.\n",
      " 0.67914408 0.3214814  0.43071329 0.64357308 0.57546901 0.57891252\n",
      " 0.21286047 0.12376767 0.50917229 0.4620497  0.74968235 0.76584263\n",
      " 0.14370353 0.39685273 0.85879901 0.12671881 0.39371539 0.7413362\n",
      " 0.95430498 0.82281988 0.54196016 0.57510442 0.55111896 0.47610625\n",
      " 0.13191877 0.60913084 0.37970786 0.94764139 0.82194114 0.40635278\n",
      " 0.18194888 0.44738155 0.68970438 0.24955781 0.70080036 0.38922842\n",
      " 0.7804126  0.68056021 0.27544941 0.30682034 0.02281206 0.14021512\n",
      " 0.39537599 0.32283809 0.91827849 0.35820252]\n"
     ]
    }
   ],
   "source": [
    "import numpy as np\n",
    "x = np.random.random(100)\n",
    "print(\"Original array:\")\n",
    "print(x)\n",
    "x[x.argmax()] = 0\n",
    "print(\"Maximum value replaced by 0:\")\n",
    "print(x)"
   ]
  },
  {
   "cell_type": "markdown",
   "id": "63ee9b0f",
   "metadata": {},
   "source": [
    "# 12.Create a 5X2 integer array from a range between 100 to 200 such that the difference between each element is 10"
   ]
  },
  {
   "cell_type": "code",
   "execution_count": 22,
   "id": "0aceb585",
   "metadata": {},
   "outputs": [
    {
     "name": "stdout",
     "output_type": "stream",
     "text": [
      "Creating 5X2 array using numpy.arange\n",
      "\n",
      "[[100 110]\n",
      " [120 130]\n",
      " [140 150]\n",
      " [160 170]\n",
      " [180 190]]\n"
     ]
    }
   ],
   "source": [
    "import numpy\n",
    "\n",
    "print(\"Creating 5X2 array using numpy.arange\")\n",
    "\n",
    "sampleArray = numpy.arange(100, 200, 10)\n",
    "sampleArray = sampleArray.reshape(5,2)\n",
    "\n",
    "print()\n",
    "print (sampleArray)"
   ]
  },
  {
   "cell_type": "markdown",
   "id": "33435036",
   "metadata": {},
   "source": [
    "# 13.Following is the provided numPy array. Return array of items by taking the third column from all rows\n",
    "sampleArray = numpy.array([[11 ,22, 33], [44, 55, 66], [77, 88, 99]])"
   ]
  },
  {
   "cell_type": "code",
   "execution_count": 23,
   "id": "b2208120",
   "metadata": {},
   "outputs": [
    {
     "name": "stdout",
     "output_type": "stream",
     "text": [
      "Printing Input Array\n",
      "[[11 22 33]\n",
      " [44 55 66]\n",
      " [77 88 99]]\n",
      "\n",
      " Printing array of items in the third column from all rows\n",
      "[22 55 88]\n"
     ]
    }
   ],
   "source": [
    "import numpy\n",
    "\n",
    "sampleArray = numpy.array([[11 ,22, 33], [44, 55, 66], [77, 88, 99]]) \n",
    "print(\"Printing Input Array\")\n",
    "print(sampleArray)\n",
    "\n",
    "print(\"\\n Printing array of items in the third column from all rows\")\n",
    "newArray = sampleArray[...,1]\n",
    "print(newArray)"
   ]
  },
  {
   "cell_type": "markdown",
   "id": "94429ee9",
   "metadata": {},
   "source": [
    "# 14.Return array of odd rows and even columns from below numpy array\n",
    "sampleArray = numpy.array([[3 ,6, 9, 12], [15 ,18, 21, 24], [27 ,30, 33, 36], [39 ,42, 45, 48], [51 ,54, 57, 60]])"
   ]
  },
  {
   "cell_type": "code",
   "execution_count": 24,
   "id": "070a2279",
   "metadata": {},
   "outputs": [
    {
     "name": "stdout",
     "output_type": "stream",
     "text": [
      "Printing Input Array\n",
      "[[ 3  6  9 12]\n",
      " [15 18 21 24]\n",
      " [27 30 33 36]\n",
      " [39 42 45 48]\n",
      " [51 54 57 60]]\n",
      "\n",
      " Printing array of odd rows and even columns\n",
      "[[ 6 12]\n",
      " [30 36]\n",
      " [54 60]]\n"
     ]
    }
   ],
   "source": [
    "import numpy\n",
    "sampleArray = numpy.array([[3 ,6, 9, 12], [15 ,18, 21, 24], \n",
    "[27 ,30, 33, 36], [39 ,42, 45, 48], [51 ,54, 57, 60]]) \n",
    "\n",
    "print(\"Printing Input Array\")\n",
    "print(sampleArray)\n",
    "\n",
    "print(\"\\n Printing array of odd rows and even columns\")\n",
    "newArray = sampleArray[::2, 1::2]\n",
    "print(newArray)"
   ]
  },
  {
   "cell_type": "markdown",
   "id": "6f30b776",
   "metadata": {},
   "source": [
    "# 15.Create a result array by adding the following two NumPy arrays. Next, modify the result array by calculating the square of each element\n",
    "arrayOne = numpy.array([[5, 6, 9], [21 ,18, 27]])\n",
    "arrayTwo = numpy.array([[15 ,33, 24], [4 ,7, 1]])\n"
   ]
  },
  {
   "cell_type": "code",
   "execution_count": 25,
   "id": "7fcfb857",
   "metadata": {},
   "outputs": [
    {
     "name": "stdout",
     "output_type": "stream",
     "text": [
      "addition of two arrays is \n",
      "\n",
      "[[20 39 33]\n",
      " [25 25 28]]\n",
      "\n",
      "Result array after calculating the square root of all elements\n",
      "\n",
      "[[ 400 1521 1089]\n",
      " [ 625  625  784]]\n"
     ]
    }
   ],
   "source": [
    "import numpy\n",
    "arrayOne = numpy.array([[5, 6, 9], [21 ,18, 27]])\n",
    "arrayTwo = numpy.array([[15 ,33, 24], [4 ,7, 1]])\n",
    "resultArray  = arrayOne + arrayTwo\n",
    "\n",
    "print(\"addition of two arrays is \\n\")\n",
    "print(resultArray)\n",
    "\n",
    "for num in numpy.nditer(resultArray, op_flags = ['readwrite']):\n",
    "   num[...] = num*num\n",
    "print(\"\\nResult array after calculating the square root of all elements\\n\")\n",
    "print(resultArray)"
   ]
  },
  {
   "cell_type": "markdown",
   "id": "90168f98",
   "metadata": {},
   "source": [
    "# 16.Split the array into four equal-sized sub-arrays\n",
    "Note: Create an 8X3 integer array from a range between 10 to 34 such that the difference between each element is 1 and then Split the array into four equal-sized sub-arrays."
   ]
  },
  {
   "cell_type": "code",
   "execution_count": 26,
   "id": "6a24255f",
   "metadata": {},
   "outputs": [
    {
     "name": "stdout",
     "output_type": "stream",
     "text": [
      "Creating 8X3 array using numpy.arange\n",
      "[[10 11 12]\n",
      " [13 14 15]\n",
      " [16 17 18]\n",
      " [19 20 21]\n",
      " [22 23 24]\n",
      " [25 26 27]\n",
      " [28 29 30]\n",
      " [31 32 33]]\n",
      "\n",
      "Dividing 8X3 array into 4 sub array\n",
      "\n",
      "[array([[10, 11, 12],\n",
      "       [13, 14, 15]]), array([[16, 17, 18],\n",
      "       [19, 20, 21]]), array([[22, 23, 24],\n",
      "       [25, 26, 27]]), array([[28, 29, 30],\n",
      "       [31, 32, 33]])]\n"
     ]
    }
   ],
   "source": [
    "import numpy\n",
    "\n",
    "print(\"Creating 8X3 array using numpy.arange\")\n",
    "sampleArray = numpy.arange(10, 34, 1)\n",
    "sampleArray = sampleArray.reshape(8,3)\n",
    "print (sampleArray)\n",
    "\n",
    "print(\"\\nDividing 8X3 array into 4 sub array\\n\")\n",
    "subArrays = numpy.split(sampleArray, 4) \n",
    "print(subArrays)"
   ]
  },
  {
   "cell_type": "markdown",
   "id": "cc7e9b1d",
   "metadata": {},
   "source": [
    "# 17.Sort following NumPy array\n",
    "Case 1: Sort array by the second row\n",
    "Case 2: Sort the array by the second column\n",
    "sampleArray = numpy.array([[34,43,73],[82,22,12],[53,94,66]])"
   ]
  },
  {
   "cell_type": "code",
   "execution_count": 27,
   "id": "f01e5f7f",
   "metadata": {},
   "outputs": [
    {
     "name": "stdout",
     "output_type": "stream",
     "text": [
      "Printing Original array\n",
      "[[34 43 73]\n",
      " [82 22 12]\n",
      " [53 94 66]]\n",
      "Sorting Original array by secoond row\n",
      "[[73 43 34]\n",
      " [12 22 82]\n",
      " [66 94 53]]\n",
      "Sorting Original array by secoond column\n",
      "[[82 22 12]\n",
      " [34 43 73]\n",
      " [53 94 66]]\n"
     ]
    }
   ],
   "source": [
    "import numpy\n",
    "\n",
    "print(\"Printing Original array\")\n",
    "sampleArray = numpy.array([[34,43,73],[82,22,12],[53,94,66]]) \n",
    "print (sampleArray)\n",
    "\n",
    "sortArrayByRow = sampleArray[:,sampleArray[1,:].argsort()]\n",
    "print(\"Sorting Original array by secoond row\")\n",
    "print(sortArrayByRow)\n",
    "\n",
    "print(\"Sorting Original array by secoond column\")\n",
    "sortArrayByColumn = sampleArray[sampleArray[:,1].argsort()]\n",
    "print(sortArrayByColumn)"
   ]
  },
  {
   "cell_type": "markdown",
   "id": "22004e69",
   "metadata": {},
   "source": [
    "# 18.Print max from axis 0 and min from axis 1 from the following 2-D array.\n",
    "sampleArray = numpy.array([[34,43,73],[82,22,12],[53,94,66]])"
   ]
  },
  {
   "cell_type": "code",
   "execution_count": 28,
   "id": "c6666321",
   "metadata": {},
   "outputs": [
    {
     "name": "stdout",
     "output_type": "stream",
     "text": [
      "Printing Original array\n",
      "[[34 43 73]\n",
      " [82 22 12]\n",
      " [53 94 66]]\n",
      "Printing amin Of Axis 1\n",
      "[34 12 53]\n",
      "Printing amax Of Axis 0\n",
      "[82 94 73]\n"
     ]
    }
   ],
   "source": [
    "import numpy\n",
    "\n",
    "print(\"Printing Original array\")\n",
    "sampleArray = numpy.array([[34,43,73],[82,22,12],[53,94,66]]) \n",
    "print (sampleArray)\n",
    "\n",
    "minOfAxisOne = numpy.amin(sampleArray, 1) \n",
    "print(\"Printing amin Of Axis 1\")\n",
    "print(minOfAxisOne)\n",
    "\n",
    "maxOfAxisOne = numpy.amax(sampleArray, 0) \n",
    "print(\"Printing amax Of Axis 0\")\n",
    "print(maxOfAxisOne)"
   ]
  },
  {
   "cell_type": "markdown",
   "id": "2b0ef9d1",
   "metadata": {},
   "source": [
    "# 19.Delete the second column from a given array and insert the following new column in its place.\n",
    "sampleArray = numpy.array([[34,43,73],[82,22,12],[53,94,66]])\n",
    "newColumn = numpy.array([[10,10,10]])"
   ]
  },
  {
   "cell_type": "code",
   "execution_count": 29,
   "id": "c1ab1223",
   "metadata": {},
   "outputs": [
    {
     "name": "stdout",
     "output_type": "stream",
     "text": [
      "Printing Original array\n",
      "[[34 43 73]\n",
      " [82 22 12]\n",
      " [53 94 66]]\n",
      "Array after deleting column 2 on axis 1\n",
      "[[34 73]\n",
      " [82 12]\n",
      " [53 66]]\n",
      "Array after inserting column 2 on axis 1\n",
      "[[34 10 73]\n",
      " [82 10 12]\n",
      " [53 10 66]]\n"
     ]
    }
   ],
   "source": [
    "import numpy\n",
    "\n",
    "print(\"Printing Original array\")\n",
    "sampleArray = numpy.array([[34,43,73],[82,22,12],[53,94,66]]) \n",
    "print (sampleArray)\n",
    "\n",
    "print(\"Array after deleting column 2 on axis 1\")\n",
    "sampleArray = numpy.delete(sampleArray , 1, axis = 1) \n",
    "print (sampleArray)\n",
    "\n",
    "arr = numpy.array([[10,10,10]])\n",
    "print(\"Array after inserting column 2 on axis 1\")\n",
    "sampleArray = numpy.insert(sampleArray , 1, arr, axis = 1) \n",
    "print (sampleArray)"
   ]
  },
  {
   "cell_type": "markdown",
   "id": "3b4facb2",
   "metadata": {},
   "source": [
    "# 20.Create two 2-D arrays and Plot them using matplotlib"
   ]
  },
  {
   "cell_type": "code",
   "execution_count": 31,
   "id": "4270ad46",
   "metadata": {},
   "outputs": [
    {
     "data": {
      "image/png": "[encoded data removed]",
      "text/plain": [
       "<Figure size 432x288 with 1 Axes>"
      ]
     },
     "metadata": {
      "needs_background": "light"
     },
     "output_type": "display_data"
    }
   ],
   "source": [
    "import matplotlib.pyplot as plt\n",
    "import numpy as np\n",
    "x = np.array([1,3,5,7,9])\n",
    "y = np.array([2,6,7,8,9])\n",
    "\n",
    "plt.title(\"Graph\")\n",
    "plt.xlabel(\"x_axis\")\n",
    "plt.ylabel(\"y_axis\")\n",
    "plt.plot(x,y, \"*k--\")\n",
    "plt.show()"
   ]
  },
  {
   "cell_type": "code",
   "execution_count": null,
   "id": "81e9de2d",
   "metadata": {},
   "outputs": [],
   "source": []
  }
 ],
 "metadata": {
  "kernelspec": {
   "display_name": "Python 3",
   "language": "python",
   "name": "python3"
  },
  "language_info": {
   "codemirror_mode": {
    "name": "ipython",
    "version": 3
   },
   "file_extension": ".py",
   "mimetype": "text/x-python",
   "name": "python",
   "nbconvert_exporter": "python",
   "pygments_lexer": "ipython3",
   "version": "3.8.8"
  }
 },
 "nbformat": 4,
 "nbformat_minor": 5
}
